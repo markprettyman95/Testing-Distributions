{
 "cells": [
  {
   "cell_type": "markdown",
   "metadata": {},
   "source": [
    "# Health Survey Data Analysis\n",
    "\n",
    "Mark Prettyman"
   ]
  },
  {
   "cell_type": "markdown",
   "metadata": {},
   "source": [
    "## Executive Summary\n",
    "\n",
    "Today we will be describing using statistical analysis whether respondents in New York reported ill health on a certain number of days following a hospital visit. We are trying to determine whehter the fact that these respondents rent or own their home affects the chance they will report ill health."
   ]
  },
  {
   "cell_type": "markdown",
   "metadata": {},
   "source": [
    "## The Data\n",
    "\n",
    "This project uses health data from the CDC Behavioral Risk Factor Surveillance System (BRFSS). Specifically this subset of the data represents survey responses from the 2020-2021 survey in the state of New York. Each record represents a survey response.\n",
    "\n",
    "'PHYSHLTH' column represents the number of days respondents recorded feeling unwell after a visit.\n",
    "'RENTHOM1' column represents whether the respondent rents or owns their home."
   ]
  },
  {
   "cell_type": "code",
   "execution_count": 1,
   "metadata": {},
   "outputs": [],
   "source": [
    "import matplotlib.pyplot as plt\n",
    "import numpy as np\n",
    "import pandas as pd\n",
    "import scipy.stats as stats\n",
    "\n",
    "\n",
    "file_path = \"https://raw.githubusercontent.com/learn-co-curriculum/da-phase3-project-enterprise/main/brfss_ny.csv\"\n",
    "df = pd.read_csv(file_path)"
   ]
  },
  {
   "cell_type": "code",
   "execution_count": 2,
   "metadata": {},
   "outputs": [
    {
     "data": {
      "text/html": [
       "<div>\n",
       "<style scoped>\n",
       "    .dataframe tbody tr th:only-of-type {\n",
       "        vertical-align: middle;\n",
       "    }\n",
       "\n",
       "    .dataframe tbody tr th {\n",
       "        vertical-align: top;\n",
       "    }\n",
       "\n",
       "    .dataframe thead th {\n",
       "        text-align: right;\n",
       "    }\n",
       "</style>\n",
       "<table border=\"1\" class=\"dataframe\">\n",
       "  <thead>\n",
       "    <tr style=\"text-align: right;\">\n",
       "      <th></th>\n",
       "      <th>_STATE</th>\n",
       "      <th>FMONTH</th>\n",
       "      <th>IDATE</th>\n",
       "      <th>IMONTH</th>\n",
       "      <th>IDAY</th>\n",
       "      <th>IYEAR</th>\n",
       "      <th>DISPCODE</th>\n",
       "      <th>SEQNO</th>\n",
       "      <th>_PSU</th>\n",
       "      <th>CTELENM1</th>\n",
       "      <th>...</th>\n",
       "      <th>_RFPSA23</th>\n",
       "      <th>_CLNSCPY</th>\n",
       "      <th>_SGMSCPY</th>\n",
       "      <th>_SGMS10Y</th>\n",
       "      <th>_RFBLDS4</th>\n",
       "      <th>_STOLDNA</th>\n",
       "      <th>_VIRCOLN</th>\n",
       "      <th>_SBONTIM</th>\n",
       "      <th>_CRCREC1</th>\n",
       "      <th>_AIDTST4</th>\n",
       "    </tr>\n",
       "  </thead>\n",
       "  <tbody>\n",
       "    <tr>\n",
       "      <th>0</th>\n",
       "      <td>36</td>\n",
       "      <td>11</td>\n",
       "      <td>11172020</td>\n",
       "      <td>11</td>\n",
       "      <td>17</td>\n",
       "      <td>2020</td>\n",
       "      <td>1200</td>\n",
       "      <td>2020000001</td>\n",
       "      <td>2020000001</td>\n",
       "      <td>NaN</td>\n",
       "      <td>...</td>\n",
       "      <td>NaN</td>\n",
       "      <td>NaN</td>\n",
       "      <td>NaN</td>\n",
       "      <td>NaN</td>\n",
       "      <td>NaN</td>\n",
       "      <td>NaN</td>\n",
       "      <td>NaN</td>\n",
       "      <td>NaN</td>\n",
       "      <td>NaN</td>\n",
       "      <td>1.0</td>\n",
       "    </tr>\n",
       "    <tr>\n",
       "      <th>1</th>\n",
       "      <td>36</td>\n",
       "      <td>1</td>\n",
       "      <td>1182020</td>\n",
       "      <td>1</td>\n",
       "      <td>18</td>\n",
       "      <td>2020</td>\n",
       "      <td>1200</td>\n",
       "      <td>2020000002</td>\n",
       "      <td>2020000002</td>\n",
       "      <td>NaN</td>\n",
       "      <td>...</td>\n",
       "      <td>NaN</td>\n",
       "      <td>NaN</td>\n",
       "      <td>NaN</td>\n",
       "      <td>NaN</td>\n",
       "      <td>NaN</td>\n",
       "      <td>NaN</td>\n",
       "      <td>NaN</td>\n",
       "      <td>NaN</td>\n",
       "      <td>NaN</td>\n",
       "      <td>2.0</td>\n",
       "    </tr>\n",
       "    <tr>\n",
       "      <th>2</th>\n",
       "      <td>36</td>\n",
       "      <td>4</td>\n",
       "      <td>5042020</td>\n",
       "      <td>5</td>\n",
       "      <td>4</td>\n",
       "      <td>2020</td>\n",
       "      <td>1200</td>\n",
       "      <td>2020000003</td>\n",
       "      <td>2020000003</td>\n",
       "      <td>NaN</td>\n",
       "      <td>...</td>\n",
       "      <td>NaN</td>\n",
       "      <td>NaN</td>\n",
       "      <td>NaN</td>\n",
       "      <td>NaN</td>\n",
       "      <td>NaN</td>\n",
       "      <td>NaN</td>\n",
       "      <td>NaN</td>\n",
       "      <td>NaN</td>\n",
       "      <td>NaN</td>\n",
       "      <td>2.0</td>\n",
       "    </tr>\n",
       "    <tr>\n",
       "      <th>3</th>\n",
       "      <td>36</td>\n",
       "      <td>1</td>\n",
       "      <td>1222020</td>\n",
       "      <td>1</td>\n",
       "      <td>22</td>\n",
       "      <td>2020</td>\n",
       "      <td>1200</td>\n",
       "      <td>2020000004</td>\n",
       "      <td>2020000004</td>\n",
       "      <td>NaN</td>\n",
       "      <td>...</td>\n",
       "      <td>NaN</td>\n",
       "      <td>NaN</td>\n",
       "      <td>NaN</td>\n",
       "      <td>NaN</td>\n",
       "      <td>NaN</td>\n",
       "      <td>NaN</td>\n",
       "      <td>NaN</td>\n",
       "      <td>NaN</td>\n",
       "      <td>NaN</td>\n",
       "      <td>2.0</td>\n",
       "    </tr>\n",
       "    <tr>\n",
       "      <th>4</th>\n",
       "      <td>36</td>\n",
       "      <td>3</td>\n",
       "      <td>3102020</td>\n",
       "      <td>3</td>\n",
       "      <td>10</td>\n",
       "      <td>2020</td>\n",
       "      <td>1200</td>\n",
       "      <td>2020000005</td>\n",
       "      <td>2020000005</td>\n",
       "      <td>NaN</td>\n",
       "      <td>...</td>\n",
       "      <td>NaN</td>\n",
       "      <td>NaN</td>\n",
       "      <td>NaN</td>\n",
       "      <td>NaN</td>\n",
       "      <td>NaN</td>\n",
       "      <td>NaN</td>\n",
       "      <td>NaN</td>\n",
       "      <td>NaN</td>\n",
       "      <td>NaN</td>\n",
       "      <td>1.0</td>\n",
       "    </tr>\n",
       "  </tbody>\n",
       "</table>\n",
       "<p>5 rows × 279 columns</p>\n",
       "</div>"
      ],
      "text/plain": [
       "   _STATE  FMONTH     IDATE  IMONTH  IDAY  IYEAR  DISPCODE       SEQNO  \\\n",
       "0      36      11  11172020      11    17   2020      1200  2020000001   \n",
       "1      36       1   1182020       1    18   2020      1200  2020000002   \n",
       "2      36       4   5042020       5     4   2020      1200  2020000003   \n",
       "3      36       1   1222020       1    22   2020      1200  2020000004   \n",
       "4      36       3   3102020       3    10   2020      1200  2020000005   \n",
       "\n",
       "         _PSU  CTELENM1  ...  _RFPSA23  _CLNSCPY  _SGMSCPY  _SGMS10Y  \\\n",
       "0  2020000001       NaN  ...       NaN       NaN       NaN       NaN   \n",
       "1  2020000002       NaN  ...       NaN       NaN       NaN       NaN   \n",
       "2  2020000003       NaN  ...       NaN       NaN       NaN       NaN   \n",
       "3  2020000004       NaN  ...       NaN       NaN       NaN       NaN   \n",
       "4  2020000005       NaN  ...       NaN       NaN       NaN       NaN   \n",
       "\n",
       "   _RFBLDS4  _STOLDNA  _VIRCOLN  _SBONTIM  _CRCREC1  _AIDTST4  \n",
       "0       NaN       NaN       NaN       NaN       NaN       1.0  \n",
       "1       NaN       NaN       NaN       NaN       NaN       2.0  \n",
       "2       NaN       NaN       NaN       NaN       NaN       2.0  \n",
       "3       NaN       NaN       NaN       NaN       NaN       2.0  \n",
       "4       NaN       NaN       NaN       NaN       NaN       1.0  \n",
       "\n",
       "[5 rows x 279 columns]"
      ]
     },
     "execution_count": 2,
     "metadata": {},
     "output_type": "execute_result"
    }
   ],
   "source": [
    "df.head()"
   ]
  },
  {
   "cell_type": "code",
   "execution_count": 3,
   "metadata": {},
   "outputs": [
    {
     "data": {
      "text/plain": [
       "Index(['_STATE', 'FMONTH', 'IDATE', 'IMONTH', 'IDAY', 'IYEAR', 'DISPCODE',\n",
       "       'SEQNO', '_PSU', 'CTELENM1',\n",
       "       ...\n",
       "       '_RFPSA23', '_CLNSCPY', '_SGMSCPY', '_SGMS10Y', '_RFBLDS4', '_STOLDNA',\n",
       "       '_VIRCOLN', '_SBONTIM', '_CRCREC1', '_AIDTST4'],\n",
       "      dtype='object', length=279)"
      ]
     },
     "execution_count": 3,
     "metadata": {},
     "output_type": "execute_result"
    }
   ],
   "source": [
    "df.columns"
   ]
  },
  {
   "cell_type": "code",
   "execution_count": 4,
   "metadata": {},
   "outputs": [],
   "source": [
    "# THIS CELL IS BLANK"
   ]
  },
  {
   "cell_type": "code",
   "execution_count": 5,
   "metadata": {},
   "outputs": [
    {
     "data": {
      "text/plain": [
       "88.0    10565\n",
       "30.0      768\n",
       "2.0       597\n",
       "1.0       410\n",
       "5.0       367\n",
       "3.0       361\n",
       "77.0      248\n",
       "10.0      231\n",
       "7.0       209\n",
       "15.0      194\n",
       "4.0       163\n",
       "20.0      147\n",
       "14.0      144\n",
       "99.0       81\n",
       "25.0       55\n",
       "6.0        47\n",
       "8.0        45\n",
       "21.0       26\n",
       "28.0       22\n",
       "12.0       22\n",
       "9.0        11\n",
       "29.0        8\n",
       "13.0        7\n",
       "18.0        6\n",
       "17.0        6\n",
       "16.0        6\n",
       "24.0        5\n",
       "27.0        5\n",
       "11.0        4\n",
       "26.0        3\n",
       "23.0        3\n",
       "19.0        2\n",
       "22.0        1\n",
       "Name: PHYSHLTH, dtype: int64"
      ]
     },
     "execution_count": 5,
     "metadata": {},
     "output_type": "execute_result"
    }
   ],
   "source": [
    "df['PHYSHLTH'].value_counts()"
   ]
  },
  {
   "cell_type": "code",
   "execution_count": 6,
   "metadata": {},
   "outputs": [
    {
     "data": {
      "text/plain": [
       "1.0    8587\n",
       "2.0    5370\n",
       "3.0     608\n",
       "9.0     147\n",
       "7.0      57\n",
       "Name: RENTHOM1, dtype: int64"
      ]
     },
     "execution_count": 6,
     "metadata": {},
     "output_type": "execute_result"
    }
   ],
   "source": [
    "df['RENTHOM1'].value_counts()"
   ]
  },
  {
   "cell_type": "markdown",
   "metadata": {},
   "source": [
    "## Data Preparation\n",
    "\n",
    "Here we will begin by splicing data, selecting the columns we need out of the DataFrame, dropping rows contanining values that are irrelevant, and checking to see we have spliced what we need."
   ]
  },
  {
   "cell_type": "code",
   "execution_count": 7,
   "metadata": {},
   "outputs": [
    {
     "data": {
      "text/plain": [
       "0.0     10565\n",
       "30.0      768\n",
       "2.0       597\n",
       "1.0       410\n",
       "5.0       367\n",
       "3.0       361\n",
       "77.0      248\n",
       "10.0      231\n",
       "7.0       209\n",
       "15.0      194\n",
       "4.0       163\n",
       "20.0      147\n",
       "14.0      144\n",
       "99.0       81\n",
       "25.0       55\n",
       "6.0        47\n",
       "8.0        45\n",
       "21.0       26\n",
       "28.0       22\n",
       "12.0       22\n",
       "9.0        11\n",
       "29.0        8\n",
       "13.0        7\n",
       "18.0        6\n",
       "17.0        6\n",
       "16.0        6\n",
       "24.0        5\n",
       "27.0        5\n",
       "11.0        4\n",
       "26.0        3\n",
       "23.0        3\n",
       "19.0        2\n",
       "22.0        1\n",
       "Name: PHYSHLTH, dtype: int64"
      ]
     },
     "execution_count": 7,
     "metadata": {},
     "output_type": "execute_result"
    }
   ],
   "source": [
    "df['PHYSHLTH'] = df['PHYSHLTH'].replace(88, 0, regex=True)\n",
    "df['PHYSHLTH'].value_counts()"
   ]
  },
  {
   "cell_type": "code",
   "execution_count": 8,
   "metadata": {},
   "outputs": [],
   "source": [
    "values = [77, 99]"
   ]
  },
  {
   "cell_type": "code",
   "execution_count": 9,
   "metadata": {},
   "outputs": [
    {
     "data": {
      "text/plain": [
       "0.0     10565\n",
       "30.0      768\n",
       "2.0       597\n",
       "1.0       410\n",
       "5.0       367\n",
       "3.0       361\n",
       "10.0      231\n",
       "7.0       209\n",
       "15.0      194\n",
       "4.0       163\n",
       "20.0      147\n",
       "14.0      144\n",
       "25.0       55\n",
       "6.0        47\n",
       "8.0        45\n",
       "21.0       26\n",
       "28.0       22\n",
       "12.0       22\n",
       "9.0        11\n",
       "29.0        8\n",
       "13.0        7\n",
       "18.0        6\n",
       "17.0        6\n",
       "16.0        6\n",
       "24.0        5\n",
       "27.0        5\n",
       "11.0        4\n",
       "26.0        3\n",
       "23.0        3\n",
       "19.0        2\n",
       "22.0        1\n",
       "Name: PHYSHLTH, dtype: int64"
      ]
     },
     "execution_count": 9,
     "metadata": {},
     "output_type": "execute_result"
    }
   ],
   "source": [
    "df = df[df.PHYSHLTH.isin(values) == False]\n",
    "df['PHYSHLTH'].value_counts()"
   ]
  },
  {
   "cell_type": "code",
   "execution_count": 10,
   "metadata": {},
   "outputs": [
    {
     "data": {
      "text/plain": [
       "0.0     10565\n",
       "30.0      768\n",
       "2.0       597\n",
       "1.0       410\n",
       "5.0       367\n",
       "3.0       361\n",
       "10.0      231\n",
       "7.0       209\n",
       "15.0      194\n",
       "4.0       163\n",
       "20.0      147\n",
       "14.0      144\n",
       "25.0       55\n",
       "6.0        47\n",
       "8.0        45\n",
       "21.0       26\n",
       "28.0       22\n",
       "12.0       22\n",
       "9.0        11\n",
       "29.0        8\n",
       "13.0        7\n",
       "18.0        6\n",
       "17.0        6\n",
       "16.0        6\n",
       "24.0        5\n",
       "27.0        5\n",
       "11.0        4\n",
       "26.0        3\n",
       "23.0        3\n",
       "19.0        2\n",
       "22.0        1\n",
       "Name: PHYSHLTH, dtype: int64"
      ]
     },
     "execution_count": 10,
     "metadata": {},
     "output_type": "execute_result"
    }
   ],
   "source": [
    "df['PHYSHLTH'] = df['PHYSHLTH'].dropna()\n",
    "df['PHYSHLTH'].value_counts()"
   ]
  },
  {
   "cell_type": "code",
   "execution_count": 11,
   "metadata": {},
   "outputs": [
    {
     "data": {
      "text/plain": [
       "<AxesSubplot:>"
      ]
     },
     "execution_count": 11,
     "metadata": {},
     "output_type": "execute_result"
    },
    {
     "data": {
      "image/png": "[encoded data removed]",
      "text/plain": [
       "<Figure size 1440x720 with 1 Axes>"
      ]
     },
     "metadata": {
      "needs_background": "light"
     },
     "output_type": "display_data"
    }
   ],
   "source": [
    "df['PHYSHLTH'].hist(figsize=(20,10))"
   ]
  },
  {
   "cell_type": "code",
   "execution_count": 12,
   "metadata": {},
   "outputs": [
    {
     "data": {
      "text/plain": [
       "count    14440.000000\n",
       "mean         3.083795\n",
       "std          7.592715\n",
       "min          0.000000\n",
       "25%          0.000000\n",
       "50%          0.000000\n",
       "75%          1.000000\n",
       "max         30.000000\n",
       "Name: PHYSHLTH, dtype: float64"
      ]
     },
     "execution_count": 12,
     "metadata": {},
     "output_type": "execute_result"
    }
   ],
   "source": [
    "df['PHYSHLTH'].describe()"
   ]
  },
  {
   "cell_type": "code",
   "execution_count": 13,
   "metadata": {
    "scrolled": true
   },
   "outputs": [
    {
     "data": {
      "text/plain": [
       "1.0    8453\n",
       "2.0    5206\n",
       "3.0     585\n",
       "9.0     141\n",
       "7.0      55\n",
       "Name: RENTHOM1, dtype: int64"
      ]
     },
     "execution_count": 13,
     "metadata": {},
     "output_type": "execute_result"
    }
   ],
   "source": [
    "df['RENTHOM1'].value_counts()"
   ]
  },
  {
   "cell_type": "code",
   "execution_count": 14,
   "metadata": {},
   "outputs": [],
   "source": [
    "values_2 = [3, 9, 7]"
   ]
  },
  {
   "cell_type": "code",
   "execution_count": 15,
   "metadata": {},
   "outputs": [
    {
     "data": {
      "text/plain": [
       "1.0    8453\n",
       "2.0    5206\n",
       "Name: RENTHOM1, dtype: int64"
      ]
     },
     "execution_count": 15,
     "metadata": {},
     "output_type": "execute_result"
    }
   ],
   "source": [
    "df = df[df.RENTHOM1.isin(values_2) == False]\n",
    "df['RENTHOM1'].value_counts()"
   ]
  },
  {
   "cell_type": "code",
   "execution_count": 16,
   "metadata": {},
   "outputs": [
    {
     "data": {
      "text/plain": [
       "(13659, 279)"
      ]
     },
     "execution_count": 16,
     "metadata": {},
     "output_type": "execute_result"
    }
   ],
   "source": [
    "df.shape"
   ]
  },
  {
   "cell_type": "code",
   "execution_count": 17,
   "metadata": {},
   "outputs": [],
   "source": [
    "# THIS CELL IS BLANK"
   ]
  },
  {
   "cell_type": "code",
   "execution_count": 18,
   "metadata": {},
   "outputs": [],
   "source": [
    "# THIS CELL IS BLANK"
   ]
  },
  {
   "cell_type": "code",
   "execution_count": 19,
   "metadata": {},
   "outputs": [],
   "source": [
    "# THIS CELL IS BLANK"
   ]
  },
  {
   "cell_type": "markdown",
   "metadata": {},
   "source": [
    "## Confidence Interval for Mean of `PHYSHLTH`"
   ]
  },
  {
   "cell_type": "code",
   "execution_count": 20,
   "metadata": {},
   "outputs": [],
   "source": [
    "physhlth_list = df['PHYSHLTH'].tolist()"
   ]
  },
  {
   "cell_type": "code",
   "execution_count": 21,
   "metadata": {},
   "outputs": [
    {
     "data": {
      "text/plain": [
       "(2.9374942974789744, 3.1917977443981758)"
      ]
     },
     "execution_count": 21,
     "metadata": {},
     "output_type": "execute_result"
    }
   ],
   "source": [
    "stats.t.interval(alpha=0.95, \n",
    "                 df=len(physhlth_list)-1, \n",
    "                 loc=np.mean(physhlth_list), \n",
    "                 scale=stats.sem(physhlth_list)\n",
    "                )"
   ]
  },
  {
   "cell_type": "markdown",
   "metadata": {},
   "source": [
    "The 95% confidence interval for the number of days New Yorkers that expiernced ill health is between 2.9374942974789744 and 3.1917977443981758. \n",
    "\n",
    "You can be 95% confident that the true population mean of New Yorkers fall within the given range."
   ]
  },
  {
   "cell_type": "markdown",
   "metadata": {},
   "source": [
    "## Differences in `PHYSHLTH` Based on `RENTHOM1`\n",
    "\n",
    "### How Does `PHYSHLTH` Differ Based on `RENTHOM1`?\n",
    "\n",
    "Were going to use a filter function to select only the columns being analyzed, then separate them into different, new DataFrames to generate our samples."
   ]
  },
  {
   "cell_type": "code",
   "execution_count": 22,
   "metadata": {},
   "outputs": [],
   "source": [
    "df_compare = df.filter(['PHYSHLTH','RENTHOM1'], \n",
    "                       axis=1\n",
    "                      )"
   ]
  },
  {
   "cell_type": "code",
   "execution_count": 23,
   "metadata": {},
   "outputs": [
    {
     "name": "stdout",
     "output_type": "stream",
     "text": [
      "<class 'pandas.core.frame.DataFrame'>\n",
      "Int64Index: 13659 entries, 0 to 14767\n",
      "Data columns (total 2 columns):\n",
      " #   Column    Non-Null Count  Dtype  \n",
      "---  ------    --------------  -----  \n",
      " 0   PHYSHLTH  13659 non-null  float64\n",
      " 1   RENTHOM1  13659 non-null  float64\n",
      "dtypes: float64(2)\n",
      "memory usage: 320.1 KB\n"
     ]
    }
   ],
   "source": [
    "df_compare.info()"
   ]
  },
  {
   "cell_type": "code",
   "execution_count": 24,
   "metadata": {},
   "outputs": [],
   "source": [
    "df_compare = df_compare.set_index('RENTHOM1')"
   ]
  },
  {
   "cell_type": "code",
   "execution_count": 25,
   "metadata": {},
   "outputs": [],
   "source": [
    "df_compare = df_compare.reset_index()"
   ]
  },
  {
   "cell_type": "code",
   "execution_count": 26,
   "metadata": {},
   "outputs": [],
   "source": [
    "# THIS CELL IS BLANK"
   ]
  },
  {
   "cell_type": "code",
   "execution_count": 27,
   "metadata": {},
   "outputs": [],
   "source": [
    "import seaborn as sns"
   ]
  },
  {
   "cell_type": "code",
   "execution_count": 28,
   "metadata": {},
   "outputs": [
    {
     "data": {
      "image/png": "[encoded data removed]",
      "text/plain": [
       "<Figure size 1440x2160 with 1 Axes>"
      ]
     },
     "metadata": {
      "needs_background": "light"
     },
     "output_type": "display_data"
    }
   ],
   "source": [
    "plt.figure(figsize=(20, 30))\n",
    "sns.set_theme(style=\"white\")\n",
    "\n",
    "sns.histplot(data=df_compare, \n",
    "             x=\"PHYSHLTH\", \n",
    "             hue='RENTHOM1'\n",
    "            )\n",
    "\n",
    "plt.xlabel('Number of Days of Ill Health')\n",
    "plt.ylabel('Count of Respondents')\n",
    "plt.title('Record of Sum of Number of Days of Ill Health')\n",
    "plt.legend(['Own','Rent'], \n",
    "           title = \"Home Ownership\", \n",
    "           title_fontsize = 15\n",
    "          )\n",
    "\n",
    "plt.show()"
   ]
  },
  {
   "cell_type": "markdown",
   "metadata": {},
   "source": [
    "It seems like the majority of respondents to the survey experienced ill health up to 3 days following the visit. \n",
    "\n",
    "The majority of the respondents own their home, rather than rent."
   ]
  },
  {
   "cell_type": "markdown",
   "metadata": {},
   "source": [
    "### Is the Difference Statistically Significant?\n",
    "\n",
    "Here we will determine our null and alternative hypotheses:\n",
    "\n",
    "𝐻0 : There is no difference between whether a respondent rents their home or owns it and how many days of ill health they experience.\n",
    "\n",
    "𝐻1 : There is a difference between between whether a respondent rents their home or owns it and how many days of ill health they experience.\n",
    "\n",
    "Then..\n",
    "\n",
    "We will be using a two tailed t-test to determine the statistical difference between the distributions."
   ]
  },
  {
   "cell_type": "code",
   "execution_count": 29,
   "metadata": {},
   "outputs": [],
   "source": [
    "# We will first be splicing the feature into two separate DataFrames so we may run \n",
    "# the mathematical calculations"
   ]
  },
  {
   "cell_type": "code",
   "execution_count": 30,
   "metadata": {},
   "outputs": [],
   "source": [
    "df_rent = df_compare.loc[df_compare['RENTHOM1'] == 1]\n",
    "df_own = df_compare.loc[df_compare['RENTHOM1'] == 2]"
   ]
  },
  {
   "cell_type": "code",
   "execution_count": 31,
   "metadata": {},
   "outputs": [],
   "source": [
    "df_rent = df_rent.set_index('RENTHOM1')\n",
    "df_own = df_own.set_index('RENTHOM1')"
   ]
  },
  {
   "cell_type": "code",
   "execution_count": 32,
   "metadata": {},
   "outputs": [
    {
     "data": {
      "text/html": [
       "<div>\n",
       "<style scoped>\n",
       "    .dataframe tbody tr th:only-of-type {\n",
       "        vertical-align: middle;\n",
       "    }\n",
       "\n",
       "    .dataframe tbody tr th {\n",
       "        vertical-align: top;\n",
       "    }\n",
       "\n",
       "    .dataframe thead th {\n",
       "        text-align: right;\n",
       "    }\n",
       "</style>\n",
       "<table border=\"1\" class=\"dataframe\">\n",
       "  <thead>\n",
       "    <tr style=\"text-align: right;\">\n",
       "      <th></th>\n",
       "      <th>PHYSHLTH</th>\n",
       "    </tr>\n",
       "    <tr>\n",
       "      <th>RENTHOM1</th>\n",
       "      <th></th>\n",
       "    </tr>\n",
       "  </thead>\n",
       "  <tbody>\n",
       "    <tr>\n",
       "      <th>1.0</th>\n",
       "      <td>14.0</td>\n",
       "    </tr>\n",
       "    <tr>\n",
       "      <th>1.0</th>\n",
       "      <td>0.0</td>\n",
       "    </tr>\n",
       "    <tr>\n",
       "      <th>1.0</th>\n",
       "      <td>0.0</td>\n",
       "    </tr>\n",
       "    <tr>\n",
       "      <th>1.0</th>\n",
       "      <td>0.0</td>\n",
       "    </tr>\n",
       "    <tr>\n",
       "      <th>1.0</th>\n",
       "      <td>0.0</td>\n",
       "    </tr>\n",
       "  </tbody>\n",
       "</table>\n",
       "</div>"
      ],
      "text/plain": [
       "          PHYSHLTH\n",
       "RENTHOM1          \n",
       "1.0           14.0\n",
       "1.0            0.0\n",
       "1.0            0.0\n",
       "1.0            0.0\n",
       "1.0            0.0"
      ]
     },
     "execution_count": 32,
     "metadata": {},
     "output_type": "execute_result"
    }
   ],
   "source": [
    "df_rent.head()"
   ]
  },
  {
   "cell_type": "code",
   "execution_count": 33,
   "metadata": {},
   "outputs": [],
   "source": [
    "# In this block we pull a sample from the populations in the DataFrames\n",
    "rent_sample = df_rent.sample(n=250, random_state=42)\n",
    "own_sample = df_own.sample(n=250, random_state=42)"
   ]
  },
  {
   "cell_type": "code",
   "execution_count": 34,
   "metadata": {},
   "outputs": [
    {
     "name": "stdout",
     "output_type": "stream",
     "text": [
      "Variance of rent sample:  PHYSHLTH    61.843149\n",
      "dtype: float64\n",
      "Variance of own sample:  PHYSHLTH    64.049542\n",
      "dtype: float64\n"
     ]
    }
   ],
   "source": [
    "# We present the variance calculated for each sample\n",
    "print(\"Variance of rent sample: \", rent_sample.var())\n",
    "print(\"Variance of own sample: \", own_sample.var())"
   ]
  },
  {
   "cell_type": "code",
   "execution_count": 35,
   "metadata": {},
   "outputs": [
    {
     "data": {
      "text/plain": [
       "Ttest_indResult(statistic=array([-0.86806143]), pvalue=array([0.38577894]))"
      ]
     },
     "execution_count": 35,
     "metadata": {},
     "output_type": "execute_result"
    }
   ],
   "source": [
    "# the t-test itself\n",
    "results = stats.ttest_ind(rent_sample, own_sample, equal_var=False)\n",
    "results"
   ]
  },
  {
   "cell_type": "code",
   "execution_count": 36,
   "metadata": {},
   "outputs": [
    {
     "name": "stdout",
     "output_type": "stream",
     "text": [
      "The p-value is: [0.38577894]\n"
     ]
    }
   ],
   "source": [
    "# Presenting the p-value\n",
    "p_val = results[1]\n",
    "print(\"The p-value is:\", p_val)"
   ]
  },
  {
   "cell_type": "markdown",
   "metadata": {},
   "source": [
    "Since the given p-value is greater than the alpha (significance level) of 0.05, we fail to reject the null hypothesis."
   ]
  },
  {
   "cell_type": "markdown",
   "metadata": {},
   "source": [
    "## Further Investigation\n",
    "\n",
    "The next column the PHYSHLTH columns should be tested against is the MENTHLTH column, specifyiong the number of days respondents were feeling unwell. Due to the recent scientific consensus based on recent research, it would be important to continue to analyze how mental health affects physical health, if there is a measurable effect at all."
   ]
  },
  {
   "cell_type": "code",
   "execution_count": 37,
   "metadata": {},
   "outputs": [],
   "source": [
    "# THIS CELL IS BLANK"
   ]
  },
  {
   "cell_type": "code",
   "execution_count": 38,
   "metadata": {},
   "outputs": [],
   "source": [
    "# THIS CELL IS BLANK"
   ]
  },
  {
   "cell_type": "code",
   "execution_count": 39,
   "metadata": {},
   "outputs": [],
   "source": [
    "# THIS CELL IS BLANK"
   ]
  }
 ],
 "metadata": {
  "kernelspec": {
   "display_name": "Python 3",
   "language": "python",
   "name": "python3"
  },
  "language_info": {
   "codemirror_mode": {
    "name": "ipython",
    "version": 3
   },
   "file_extension": ".py",
   "mimetype": "text/x-python",
   "name": "python",
   "nbconvert_exporter": "python",
   "pygments_lexer": "ipython3",
   "version": "3.9.5"
  }
 },
 "nbformat": 4,
 "nbformat_minor": 4
}
